{
 "cells": [
  {
   "cell_type": "code",
   "execution_count": 14,
   "metadata": {},
   "outputs": [],
   "source": [
    "import pandas as pd\n",
    "import matplotlib.pyplot as plt"
   ]
  },
  {
   "cell_type": "code",
   "execution_count": 2,
   "metadata": {},
   "outputs": [],
   "source": [
    "windows=pd.read_csv(\"Windows Login.csv\")"
   ]
  },
  {
   "cell_type": "code",
   "execution_count": 3,
   "metadata": {},
   "outputs": [
    {
     "data": {
      "text/plain": [
       "(117606, 7)"
      ]
     },
     "execution_count": 3,
     "metadata": {},
     "output_type": "execute_result"
    }
   ],
   "source": [
    "windows.shape"
   ]
  },
  {
   "cell_type": "code",
   "execution_count": 5,
   "metadata": {},
   "outputs": [
    {
     "data": {
      "text/html": [
       "<div>\n",
       "<style scoped>\n",
       "    .dataframe tbody tr th:only-of-type {\n",
       "        vertical-align: middle;\n",
       "    }\n",
       "\n",
       "    .dataframe tbody tr th {\n",
       "        vertical-align: top;\n",
       "    }\n",
       "\n",
       "    .dataframe thead th {\n",
       "        text-align: right;\n",
       "    }\n",
       "</style>\n",
       "<table border=\"1\" class=\"dataframe\">\n",
       "  <thead>\n",
       "    <tr style=\"text-align: right;\">\n",
       "      <th></th>\n",
       "      <th>@timestamp</th>\n",
       "      <th>Channel</th>\n",
       "      <th>EventID</th>\n",
       "      <th>AccountDomain</th>\n",
       "      <th>Category</th>\n",
       "      <th>SeverityValue</th>\n",
       "      <th>Severity</th>\n",
       "    </tr>\n",
       "  </thead>\n",
       "  <tbody>\n",
       "    <tr>\n",
       "      <th>0</th>\n",
       "      <td>September 20th 2019, 15:54:32.000</td>\n",
       "      <td>Security</td>\n",
       "      <td>4,688</td>\n",
       "      <td>WALSHGROUP</td>\n",
       "      <td>Process Creation</td>\n",
       "      <td>2</td>\n",
       "      <td>INFO</td>\n",
       "    </tr>\n",
       "    <tr>\n",
       "      <th>1</th>\n",
       "      <td>September 20th 2019, 15:54:31.000</td>\n",
       "      <td>Security</td>\n",
       "      <td>4,689</td>\n",
       "      <td>WALSHGROUP</td>\n",
       "      <td>Process Termination</td>\n",
       "      <td>2</td>\n",
       "      <td>INFO</td>\n",
       "    </tr>\n",
       "    <tr>\n",
       "      <th>2</th>\n",
       "      <td>September 20th 2019, 15:54:28.000</td>\n",
       "      <td>Security</td>\n",
       "      <td>4,689</td>\n",
       "      <td>WALSHGROUP</td>\n",
       "      <td>Process Termination</td>\n",
       "      <td>2</td>\n",
       "      <td>INFO</td>\n",
       "    </tr>\n",
       "    <tr>\n",
       "      <th>3</th>\n",
       "      <td>September 20th 2019, 15:54:28.000</td>\n",
       "      <td>Security</td>\n",
       "      <td>4,624</td>\n",
       "      <td>[\"-\",\"WALSHGROUP\"]</td>\n",
       "      <td>Logon</td>\n",
       "      <td>2</td>\n",
       "      <td>INFO</td>\n",
       "    </tr>\n",
       "    <tr>\n",
       "      <th>4</th>\n",
       "      <td>September 20th 2019, 15:54:26.000</td>\n",
       "      <td>Security</td>\n",
       "      <td>4,634</td>\n",
       "      <td>WALSHGROUP</td>\n",
       "      <td>Logoff</td>\n",
       "      <td>2</td>\n",
       "      <td>INFO</td>\n",
       "    </tr>\n",
       "  </tbody>\n",
       "</table>\n",
       "</div>"
      ],
      "text/plain": [
       "                          @timestamp   Channel EventID       AccountDomain  \\\n",
       "0  September 20th 2019, 15:54:32.000  Security   4,688          WALSHGROUP   \n",
       "1  September 20th 2019, 15:54:31.000  Security   4,689          WALSHGROUP   \n",
       "2  September 20th 2019, 15:54:28.000  Security   4,689          WALSHGROUP   \n",
       "3  September 20th 2019, 15:54:28.000  Security   4,624  [\"-\",\"WALSHGROUP\"]   \n",
       "4  September 20th 2019, 15:54:26.000  Security   4,634          WALSHGROUP   \n",
       "\n",
       "              Category  SeverityValue Severity  \n",
       "0     Process Creation              2     INFO  \n",
       "1  Process Termination              2     INFO  \n",
       "2  Process Termination              2     INFO  \n",
       "3                Logon              2     INFO  \n",
       "4               Logoff              2     INFO  "
      ]
     },
     "execution_count": 5,
     "metadata": {},
     "output_type": "execute_result"
    }
   ],
   "source": [
    "windows.head()"
   ]
  },
  {
   "cell_type": "code",
   "execution_count": 6,
   "metadata": {},
   "outputs": [
    {
     "data": {
      "text/plain": [
       "'September 20th 2019, 15:54:32.000'"
      ]
     },
     "execution_count": 6,
     "metadata": {},
     "output_type": "execute_result"
    }
   ],
   "source": [
    "windows[\"@timestamp\"].max()"
   ]
  },
  {
   "cell_type": "code",
   "execution_count": 7,
   "metadata": {},
   "outputs": [
    {
     "data": {
      "text/plain": [
       "'September 20th 2019, 14:50:55.000'"
      ]
     },
     "execution_count": 7,
     "metadata": {},
     "output_type": "execute_result"
    }
   ],
   "source": [
    "windows[\"@timestamp\"].min()"
   ]
  },
  {
   "cell_type": "code",
   "execution_count": 8,
   "metadata": {},
   "outputs": [
    {
     "data": {
      "text/plain": [
       "array(['Security', 'Application', nan], dtype=object)"
      ]
     },
     "execution_count": 8,
     "metadata": {},
     "output_type": "execute_result"
    }
   ],
   "source": [
    "windows[\"Channel\"].unique()"
   ]
  },
  {
   "cell_type": "code",
   "execution_count": 9,
   "metadata": {},
   "outputs": [
    {
     "data": {
      "text/plain": [
       "array(['4,688', '4,689', '4,624', '4,634', '300', '4,670', '4,672',\n",
       "       '4,648', '5,156', '5,140', '106', '4,674', '7,036', '6,278',\n",
       "       '6,272', '5,059', '5,058', '5,061', '5,158', '4,907', '4,647',\n",
       "       '4,696', '4,692', '6,273', '100', '5,033', '0', '5,024', '5,056',\n",
       "       '400', '403', '200', '600', '4,658', '4,663', '4,656', '4,702',\n",
       "       '4,662', '4,206', '4,412', '4,304', '4,202', '4,208', '4,673',\n",
       "       '4,204', '4,985', '4,660', '4,616', '13', '6', '65', '64', '10',\n",
       "       '33', '4,904', '4,905', '4,210', '4,793', '4,724', '4,738',\n",
       "       '4,608', '4,902', '6,281', '198', '1,100', '120', '706', '6,416',\n",
       "       '4,719', '4,698', '4,699', '4,625', '4,946', '4,948'], dtype=object)"
      ]
     },
     "execution_count": 9,
     "metadata": {},
     "output_type": "execute_result"
    }
   ],
   "source": [
    "windows[\"EventID\"].unique()"
   ]
  },
  {
   "cell_type": "code",
   "execution_count": 10,
   "metadata": {},
   "outputs": [
    {
     "data": {
      "text/plain": [
       "array(['WALSHGROUP', '[\"-\",\"WALSHGROUP\"]', nan, 'MBG',\n",
       "       '[\"WALSHGROUP\",\"WALSHGROUP.COM\"]', '[\"WALSHGROUP\",\"NT AUTHORITY\"]',\n",
       "       '[\"-\",\"MBG\"]', 'NT AUTHORITY', '[\"MBG\",\"NT AUTHORITY\"]',\n",
       "       '[\"WALSHGROUP\",\"-\"]', '[\"-\",\"NT AUTHORITY\"]',\n",
       "       '[\"NT AUTHORITY\",\"-\"]', 'SHUTTLEPC-XPC',\n",
       "       '[\"MBG\",\"INTERNAL.METROBANKGROUP.COM\"]',\n",
       "       '[\"WALSHGROUP\",\"GAGHAZARIANW541\"]', '[\"-\",\"WALSHGROUP.COM\"]'],\n",
       "      dtype=object)"
      ]
     },
     "execution_count": 10,
     "metadata": {},
     "output_type": "execute_result"
    }
   ],
   "source": [
    "windows[\"AccountDomain\"].unique()"
   ]
  },
  {
   "cell_type": "code",
   "execution_count": 11,
   "metadata": {},
   "outputs": [
    {
     "data": {
      "text/plain": [
       "array(['Process Creation', 'Process Termination', 'Logon', 'Logoff', nan,\n",
       "       'Authorization Policy Change', 'Special Logon',\n",
       "       'Filtering Platform Connection', 'File Share',\n",
       "       'Sensitive Privilege Use', 'Network Policy Server',\n",
       "       'Other System Events', 'System Integrity', 'Audit Policy Change',\n",
       "       'DPAPI Activity', 'Engine Lifecycle', 'Provider Lifecycle',\n",
       "       'File System', 'Kernel Object', 'Other Object Access Events',\n",
       "       'Security State Change', 'Other Account Management Events',\n",
       "       'User Account Management', 'Service shutdown',\n",
       "       'Plug and Play Events', 'System', 'Policy Change', 'Logon/Logoff',\n",
       "       'Account Management', 'Object Access', 'Detailed Tracking',\n",
       "       'MPSSVC Rule-Level Policy Change'], dtype=object)"
      ]
     },
     "execution_count": 11,
     "metadata": {},
     "output_type": "execute_result"
    }
   ],
   "source": [
    "windows[\"Category\"].unique()"
   ]
  },
  {
   "cell_type": "code",
   "execution_count": 12,
   "metadata": {},
   "outputs": [
    {
     "data": {
      "text/plain": [
       "array([2, 4, 3])"
      ]
     },
     "execution_count": 12,
     "metadata": {},
     "output_type": "execute_result"
    }
   ],
   "source": [
    "windows[\"SeverityValue\"].unique()"
   ]
  },
  {
   "cell_type": "code",
   "execution_count": 13,
   "metadata": {},
   "outputs": [
    {
     "data": {
      "text/plain": [
       "array(['INFO', 'ERROR', 'WARNING'], dtype=object)"
      ]
     },
     "execution_count": 13,
     "metadata": {},
     "output_type": "execute_result"
    }
   ],
   "source": [
    "windows[\"Severity\"].unique()"
   ]
  },
  {
   "cell_type": "code",
   "execution_count": 18,
   "metadata": {},
   "outputs": [],
   "source": [
    "ref_w=windows.dropna()"
   ]
  },
  {
   "cell_type": "code",
   "execution_count": 23,
   "metadata": {},
   "outputs": [],
   "source": [
    "p1=float(len(windows[windows[\"Severity\"]=='INFO'])/windows.shape[0])\n",
    "p2=float(len(windows[windows[\"Severity\"]=='ERROR'])/windows.shape[0])\n",
    "p3=float(len(windows[windows[\"Severity\"]=='WARNING'])/windows.shape[0])"
   ]
  },
  {
   "cell_type": "code",
   "execution_count": 24,
   "metadata": {},
   "outputs": [
    {
     "data": {
      "text/plain": [
       "0.9980953352720099"
      ]
     },
     "execution_count": 24,
     "metadata": {},
     "output_type": "execute_result"
    }
   ],
   "source": [
    "p1"
   ]
  },
  {
   "cell_type": "code",
   "execution_count": 25,
   "metadata": {},
   "outputs": [
    {
     "data": {
      "text/plain": [
       "0.0006972433379249358"
      ]
     },
     "execution_count": 25,
     "metadata": {},
     "output_type": "execute_result"
    }
   ],
   "source": [
    "p2"
   ]
  },
  {
   "cell_type": "code",
   "execution_count": 26,
   "metadata": {},
   "outputs": [
    {
     "data": {
      "text/plain": [
       "0.0012074213900651327"
      ]
     },
     "execution_count": 26,
     "metadata": {},
     "output_type": "execute_result"
    }
   ],
   "source": [
    "p3"
   ]
  },
  {
   "cell_type": "code",
   "execution_count": 33,
   "metadata": {},
   "outputs": [
    {
     "data": {
      "image/png": "[encoded data removed]",
      "text/plain": [
       "<Figure size 432x288 with 1 Axes>"
      ]
     },
     "metadata": {
      "needs_background": "light"
     },
     "output_type": "display_data"
    }
   ],
   "source": [
    "import matplotlib.pyplot as plt\n",
    "from numpy import arange\n",
    "num_cols=['Info','Error','Warning']\n",
    "bar_heights = [p1,p2,p3]\n",
    "bar_positions = arange(3) + 0.75\n",
    "tick_positions = range(1,4)\n",
    "\n",
    "fig, ax = plt.subplots()\n",
    "\n",
    "ax.bar(bar_positions, bar_heights, 0.5)\n",
    "ax.set_xticks(tick_positions)\n",
    "ax.set_xticklabels(num_cols)\n",
    "\n",
    "ax.set_xlabel('Severity Types')\n",
    "ax.set_ylabel('Number of events')\n",
    "ax.set_title('Severity type histogram')\n",
    "plt.show()"
   ]
  },
  {
   "cell_type": "code",
   "execution_count": 42,
   "metadata": {},
   "outputs": [
    {
     "data": {
      "text/plain": [
       "117382"
      ]
     },
     "execution_count": 42,
     "metadata": {},
     "output_type": "execute_result"
    }
   ],
   "source": [
    "len(windows[windows[\"Severity\"]=='INFO'])"
   ]
  },
  {
   "cell_type": "code",
   "execution_count": 41,
   "metadata": {},
   "outputs": [
    {
     "data": {
      "text/plain": [
       "117382"
      ]
     },
     "execution_count": 41,
     "metadata": {},
     "output_type": "execute_result"
    }
   ],
   "source": [
    "len(windows[windows[\"SeverityValue\"]==2])"
   ]
  },
  {
   "cell_type": "code",
   "execution_count": null,
   "metadata": {},
   "outputs": [],
   "source": []
  }
 ],
 "metadata": {
  "kernelspec": {
   "display_name": "Python 3",
   "language": "python",
   "name": "python3"
  },
  "language_info": {
   "codemirror_mode": {
    "name": "ipython",
    "version": 3
   },
   "file_extension": ".py",
   "mimetype": "text/x-python",
   "name": "python",
   "nbconvert_exporter": "python",
   "pygments_lexer": "ipython3",
   "version": "3.7.3"
  }
 },
 "nbformat": 4,
 "nbformat_minor": 2
}
